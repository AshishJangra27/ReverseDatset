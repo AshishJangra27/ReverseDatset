{
 "cells": [
  {
   "cell_type": "code",
   "execution_count": 5,
   "metadata": {
    "scrolled": true
   },
   "outputs": [],
   "source": [
    "df = open('NSE-TCS.csv','r')\n",
    "rev = open('Rev.csv','a+')\n",
    "\n",
    "app = []\n",
    "for lines in df:\n",
    "    app.append(lines)\n",
    "\n",
    "rev.write(app[0])\n",
    "\n",
    "for i in range(len(app)-1,0,-1):\n",
    "    rev.write(app[i])\n",
    "    \n",
    "rev.close()\n",
    "df.close()"
   ]
  },
  {
   "cell_type": "code",
   "execution_count": 99,
   "metadata": {},
   "outputs": [],
   "source": []
  },
  {
   "cell_type": "code",
   "execution_count": null,
   "metadata": {},
   "outputs": [],
   "source": []
  }
 ],
 "metadata": {
  "kernelspec": {
   "display_name": "Python 3",
   "language": "python",
   "name": "python3"
  },
  "language_info": {
   "codemirror_mode": {
    "name": "ipython",
    "version": 3
   },
   "file_extension": ".py",
   "mimetype": "text/x-python",
   "name": "python",
   "nbconvert_exporter": "python",
   "pygments_lexer": "ipython3",
   "version": "3.6.5"
  }
 },
 "nbformat": 4,
 "nbformat_minor": 2
}
